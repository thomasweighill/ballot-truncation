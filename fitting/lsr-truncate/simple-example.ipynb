{
 "cells": [
  {
   "cell_type": "markdown",
   "metadata": {},
   "source": [
    "# Plackett–Luce model inference using LSR and I-LSR\n",
    "\n",
    "This short notebook gives an example of how to use the `inference.py` Python module to find the spectral estimate (using LSR) and the maximum-likelihood estimate (using I-LSR)."
   ]
  },
  {
   "cell_type": "code",
   "execution_count": 1,
   "metadata": {},
   "outputs": [],
   "source": [
    "import matplotlib.pyplot as plt\n",
    "import numpy as np\n",
    "import inference\n",
    "\n",
    "%matplotlib inline"
   ]
  },
  {
   "cell_type": "code",
   "execution_count": 2,
   "metadata": {},
   "outputs": [],
   "source": [
    "nb_items = 10\n",
    "nb_rankings = 500\n",
    "size_of_ranking = 3"
   ]
  },
  {
   "cell_type": "markdown",
   "metadata": {},
   "source": [
    "### Generate some data\n",
    "\n",
    "1. We generate random model parameters (uniformly on a logarithmic scale).\n",
    "2. We generate rankings over random subsets of the items using a Plackett–Luce model with the previously generated parameters."
   ]
  },
  {
   "cell_type": "code",
   "execution_count": 3,
   "metadata": {},
   "outputs": [],
   "source": [
    "strengths = np.exp(np.random.rand(nb_items))\n",
    "rankings = inference.generate_rankings(strengths, nb_rankings, size_of_ranking)"
   ]
  },
  {
   "cell_type": "markdown",
   "metadata": {},
   "source": [
    "Below we give an example of what the data (i.e., the rankings) look like. We only show the 10 first rankings."
   ]
  },
  {
   "cell_type": "code",
   "execution_count": 4,
   "metadata": {
    "scrolled": true
   },
   "outputs": [
    {
     "data": {
      "text/plain": [
       "((1, 7, 9),\n",
       " (3, 4, 1),\n",
       " (8, 3, 9),\n",
       " (2, 9, 6),\n",
       " (1, 6, 3),\n",
       " (5, 7, 4),\n",
       " (1, 5, 3),\n",
       " (9, 7, 5),\n",
       " (5, 6, 3),\n",
       " (2, 0, 8))"
      ]
     },
     "execution_count": 4,
     "metadata": {},
     "output_type": "execute_result"
    }
   ],
   "source": [
    "rankings[:10]"
   ]
  },
  {
   "cell_type": "markdown",
   "metadata": {},
   "source": [
    "### Compute the spectral and maximum-likelihood estimates\n",
    "\n",
    "Both estimates are well-defined only if the comparison graph is strongly connected.\n",
    "If it is not, the algorithm raises an error."
   ]
  },
  {
   "cell_type": "code",
   "execution_count": 5,
   "metadata": {},
   "outputs": [],
   "source": [
    "# Spectral estimate using LSR.\n",
    "spectral_estimate = inference.lsr(nb_items, rankings)\n",
    "\n",
    "# ML estimate using I-LSR.\n",
    "ml_estimate = inference.ilsr(nb_items, rankings)"
   ]
  },
  {
   "cell_type": "markdown",
   "metadata": {},
   "source": [
    "### Visualize the estimates\n",
    "\n",
    "We plot the true parameters (the strengths that generated the rankings) and the two estimates using heat maps. The darker the cell is, the \"stronger\" the item is."
   ]
  },
  {
   "cell_type": "code",
   "execution_count": 6,
   "metadata": {
    "collapsed": true
   },
   "outputs": [],
   "source": [
    "def plot_strengths(ax, strengths):\n",
    "    img = np.log(strengths)[np.newaxis,:]\n",
    "    ax.imshow(img, interpolation='nearest', cmap=plt.get_cmap('YlGnBu'))\n",
    "    ax.yaxis.set_visible(False)"
   ]
  },
  {
   "cell_type": "code",
   "execution_count": 7,
   "metadata": {},
   "outputs": [
    {
     "data": {
      "text/plain": [
       "<matplotlib.text.Text at 0x10c3caa10>"
      ]
     },
     "execution_count": 7,
     "metadata": {},
     "output_type": "execute_result"
    },
    {
     "data": {
      "image/png": "[encoded data removed]",
      "text/plain": [
       "<matplotlib.figure.Figure at 0x10a559210>"
      ]
     },
     "metadata": {},
     "output_type": "display_data"
    }
   ],
   "source": [
    "fig, (ax1, ax2, ax3) = plt.subplots(nrows=3, figsize=(10.0, 5.0))\n",
    "\n",
    "plot_strengths(ax1, strengths)\n",
    "ax1.set_title(\"True parameters\")\n",
    "\n",
    "plot_strengths(ax2, ml_estimate)\n",
    "ax2.set_title(\"ML estimate\")\n",
    "\n",
    "plot_strengths(ax3, spectral_estimate)\n",
    "ax3.set_title(\"Spectral estimate\")"
   ]
  },
  {
   "cell_type": "markdown",
   "metadata": {},
   "source": [
    "The true and estimated parameters look more or less alike!"
   ]
  }
 ],
 "metadata": {
  "kernelspec": {
   "display_name": "Python 3",
   "language": "python",
   "name": "python3"
  },
  "language_info": {
   "codemirror_mode": {
    "name": "ipython",
    "version": 3
   },
   "file_extension": ".py",
   "mimetype": "text/x-python",
   "name": "python",
   "nbconvert_exporter": "python",
   "pygments_lexer": "ipython3",
   "version": "3.8.8"
  }
 },
 "nbformat": 4,
 "nbformat_minor": 1
}
